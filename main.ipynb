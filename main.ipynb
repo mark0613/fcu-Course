{
 "cells": [
  {
   "cell_type": "code",
   "execution_count": 16,
   "source": [
    "from selenium import webdriver\r\n",
    "from selenium.webdriver.chrome.options import Options\r\n",
    "\r\n",
    "import time\r\n",
    "import base64\r\n",
    "\r\n",
    "from captcha_ocr import Captcha_OCR"
   ],
   "outputs": [],
   "metadata": {}
  },
  {
   "cell_type": "code",
   "execution_count": 17,
   "source": [
    "account = \"\"\r\n",
    "password = \"\""
   ],
   "outputs": [],
   "metadata": {}
  },
  {
   "cell_type": "code",
   "execution_count": 25,
   "source": [
    "def save_captch_img():\r\n",
    "    \"\"\"\r\n",
    "    Get and save the current captcha image.\r\n",
    "    \"\"\"\r\n",
    "\r\n",
    "    js = \"\"\"\r\n",
    "    var canvas = document.createElement('canvas');\r\n",
    "    var context = canvas.getContext('2d');\r\n",
    "    var img = document.getElementById(\"ctl00_Login1_Image1\");\r\n",
    "\r\n",
    "    canvas.height = img.naturalHeight;\r\n",
    "    canvas.width = img.naturalWidth;\r\n",
    "    context.drawImage(img, 0, 0);\r\n",
    "\r\n",
    "    callback = arguments[arguments.length - 1];\r\n",
    "    callback(canvas.toDataURL());\r\n",
    "    \"\"\"\r\n",
    "    captcha = chrome.execute_async_script(js).split(\",\")[1]\r\n",
    "    with open(\"catch/captcha.jpg\", 'wb+') as img:\r\n",
    "        img.write(base64.b64decode(captcha))\r\n",
    "\r\n",
    "def recognize_captcha():\r\n",
    "    ocr.process_image(\"catch\", 50, 22)\r\n",
    "    return ocr.recognize()\r\n",
    "\r\n",
    "def login():\r\n",
    "    while \"service\" not in chrome.current_url:\r\n",
    "        save_captch_img()\r\n",
    "        \r\n",
    "        input_account = chrome.find_element_by_id(\"ctl00_Login1_UserName\")\r\n",
    "        input_password = chrome.find_element_by_id(\"ctl00_Login1_Password\")\r\n",
    "        input_captcha = chrome.find_element_by_id(\"ctl00_Login1_vcode\")\r\n",
    "        btn_login = chrome.find_element_by_id(\"ctl00_Login1_LoginButton\")\r\n",
    "\r\n",
    "        input_account.clear()\r\n",
    "        input_account.send_keys(account)\r\n",
    "        input_password.send_keys(password)\r\n",
    "        input_captcha.clear()\r\n",
    "        input_captcha.send_keys(recognize_captcha())\r\n",
    "        time.sleep(0.5)\r\n",
    "\r\n",
    "        btn_login.click()\r\n",
    "        time.sleep(1)\r\n",
    "\r\n",
    "def get_btn_id():\r\n",
    "    course = []\r\n",
    "    i = 2\r\n",
    "    while True:\r\n",
    "        btn_id = f\"ctl00_MainContent_TabContainer1_tabSelected_gvWishList_ctl0{i}_btnAdd\"\r\n",
    "        try:\r\n",
    "            chrome.find_element_by_id(btn_id)\r\n",
    "            course.append(btn_id)\r\n",
    "        except:\r\n",
    "            break\r\n",
    "        i += 2\r\n",
    "    return course\r\n",
    "\r\n",
    "def register(btn_id):\r\n",
    "    \"\"\"\r\n",
    "    Register the course by id.\r\n",
    "    \"\"\"\r\n",
    "    \r\n",
    "    btn = chrome.find_element_by_id(btn_id)\r\n",
    "    btn.click()"
   ],
   "outputs": [],
   "metadata": {}
  },
  {
   "cell_type": "code",
   "execution_count": 21,
   "source": [
    "url = \"https://course.fcu.edu.tw/\"\r\n",
    "options = Options()\r\n",
    "options.add_argument(\"--disable-notifications\")\r\n",
    "chrome = webdriver.Chrome(chrome_options=options)\r\n",
    "chrome.get(url)\r\n",
    "\r\n",
    "ocr = Captcha_OCR(list(\"0123456789\"), 4)\r\n",
    "ocr.load_model(\"fcu_course_ocr_v1\")"
   ],
   "outputs": [
    {
     "output_type": "stream",
     "name": "stderr",
     "text": [
      "<ipython-input-21-0bb2c2765bb4>:4: DeprecationWarning: use options instead of chrome_options\n",
      "  chrome = webdriver.Chrome(chrome_options=options)\n"
     ]
    }
   ],
   "metadata": {}
  },
  {
   "cell_type": "code",
   "execution_count": 22,
   "source": [
    "# login\r\n",
    "login()\r\n",
    "time.sleep(1)\r\n",
    "chrome.find_element_by_id(\"ctl00_MainContent_TabContainer1_tabSelected_Label3\").click()\r\n",
    "btn_id = get_btn_id()"
   ],
   "outputs": [],
   "metadata": {}
  },
  {
   "cell_type": "code",
   "execution_count": null,
   "source": [
    "while True:\r\n",
    "    for i in btn_id:\r\n",
    "        try:\r\n",
    "            register(i)\r\n",
    "        except:\r\n",
    "            btn_id.remove(i)\r\n",
    "            break\r\n",
    "        time.sleep(3)\r\n",
    "    if len(btn_id) == 0:\r\n",
    "        break"
   ],
   "outputs": [],
   "metadata": {}
  }
 ],
 "metadata": {
  "orig_nbformat": 4,
  "language_info": {
   "name": "python",
   "version": "3.8.8",
   "mimetype": "text/x-python",
   "codemirror_mode": {
    "name": "ipython",
    "version": 3
   },
   "pygments_lexer": "ipython3",
   "nbconvert_exporter": "python",
   "file_extension": ".py"
  },
  "kernelspec": {
   "name": "python3",
   "display_name": "Python 3.8.8 64-bit ('base': conda)"
  },
  "interpreter": {
   "hash": "b3ba2566441a7c06988d0923437866b63cedc61552a5af99d1f4fb67d367b25f"
  }
 },
 "nbformat": 4,
 "nbformat_minor": 2
}